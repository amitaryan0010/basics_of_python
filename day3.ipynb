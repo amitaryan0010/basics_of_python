{
 "cells": [
  {
   "cell_type": "markdown",
   "id": "65a45697-b64f-4ab6-9bca-750e9780d93e",
   "metadata": {},
   "source": [
    "# Control Statement\n",
    "1) decision control statement\n",
    "2) control flow statement"
   ]
  }
 ],
 "metadata": {
  "kernelspec": {
   "display_name": "Python 3 (ipykernel)",
   "language": "python",
   "name": "python3"
  },
  "language_info": {
   "codemirror_mode": {
    "name": "ipython",
    "version": 3
   },
   "file_extension": ".py",
   "mimetype": "text/x-python",
   "name": "python",
   "nbconvert_exporter": "python",
   "pygments_lexer": "ipython3",
   "version": "3.12.4"
  }
 },
 "nbformat": 4,
 "nbformat_minor": 5
}
