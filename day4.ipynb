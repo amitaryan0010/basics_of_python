{
 "cells": [
  {
   "cell_type": "markdown",
   "id": "3fd85893-5fc1-46f8-b340-27ee373dfe48",
   "metadata": {},
   "source": [
    "# Functions\n",
    "\n",
    "It is a machine which takes an argument and then process it within the given block and return a value or modify the existing value.\n",
    "\n",
    "### Function Types\n",
    "1) In Built\n",
    "2) User defined"
   ]
  },
  {
   "cell_type": "code",
   "execution_count": 9,
   "id": "a163cbb6-5ac2-43a8-8edd-e35a324666a6",
   "metadata": {},
   "outputs": [
    {
     "name": "stdout",
     "output_type": "stream",
     "text": [
      "[1, 2, 4, 5, 6, 9] :: 27 :: [1, 5, 2, 9, 6, 4, 10]\n"
     ]
    }
   ],
   "source": [
    "# In built function (pre-defined)\n",
    "my_list = [1,5,2,9,6,4]\n",
    "\n",
    "sorted_list = sorted(my_list)  # sorted in-built function\n",
    "sum_list = sum(my_list) # sum in-built function\n",
    "my_list.append(10) # append in-built function for list\n",
    "print(sorted_list, \"::\",sum_list,\"::\",my_list)"
   ]
  },
  {
   "cell_type": "code",
   "execution_count": 13,
   "id": "da1e4e9d-91ed-4937-8b34-ff7d195ffbfa",
   "metadata": {},
   "outputs": [],
   "source": [
    "# User defined function\n",
    "def add(x1,x2):\n",
    "    addition = x1 + x2\n",
    "    return addition"
   ]
  },
  {
   "cell_type": "code",
   "execution_count": 17,
   "id": "6a1dc480-d6de-4c61-a721-3140f1447f24",
   "metadata": {},
   "outputs": [
    {
     "data": {
      "text/plain": [
       "15"
      ]
     },
     "execution_count": 17,
     "metadata": {},
     "output_type": "execute_result"
    }
   ],
   "source": [
    "add(12,3)  # calling add function which was defined in above block"
   ]
  },
  {
   "cell_type": "code",
   "execution_count": 25,
   "id": "953db577-df33-4124-baf7-ab353e42725b",
   "metadata": {},
   "outputs": [],
   "source": [
    "# write a function to reverse a string\n",
    "def rev(name):\n",
    "    return name[::-1]"
   ]
  },
  {
   "cell_type": "code",
   "execution_count": 27,
   "id": "ed10519e-b05f-4bfc-8fe4-c5b3ad1b28d1",
   "metadata": {},
   "outputs": [
    {
     "data": {
      "text/plain": [
       "'tima'"
      ]
     },
     "execution_count": 27,
     "metadata": {},
     "output_type": "execute_result"
    }
   ],
   "source": [
    "rev(\"amit\")"
   ]
  },
  {
   "cell_type": "markdown",
   "id": "a17ad14a-5e50-48de-9246-737dbaa703f8",
   "metadata": {},
   "source": [
    "## recursion function\n",
    "which call itself, function call another function within statement"
   ]
  },
  {
   "cell_type": "code",
   "execution_count": 51,
   "id": "74ff47a8-3bc6-46db-b180-f990e518582d",
   "metadata": {},
   "outputs": [],
   "source": [
    "## find the factorial in maths and using range function inside user-defined function\n",
    "def factorial(num):\n",
    "    fact = 1\n",
    "    for i in range(1,num+1):\n",
    "        fact = fact*i\n",
    "    return fact"
   ]
  },
  {
   "cell_type": "code",
   "execution_count": 53,
   "id": "83a844ff-ec3e-4240-b4ab-04804c61fc8f",
   "metadata": {},
   "outputs": [
    {
     "data": {
      "text/plain": [
       "5040"
      ]
     },
     "execution_count": 53,
     "metadata": {},
     "output_type": "execute_result"
    }
   ],
   "source": [
    "factorial(7)"
   ]
  },
  {
   "cell_type": "code",
   "execution_count": 57,
   "id": "4d3792ef-00c6-4c25-b3aa-88fb1126e4e1",
   "metadata": {},
   "outputs": [],
   "source": [
    "def factorial_rec(num):\n",
    "    if num == 0:\n",
    "        return 1\n",
    "    num = num * factorial_rec(num-1)\n",
    "    return num"
   ]
  },
  {
   "cell_type": "code",
   "execution_count": 59,
   "id": "84ba8513-4642-4a1d-a1ac-88bd27c8184b",
   "metadata": {},
   "outputs": [
    {
     "data": {
      "text/plain": [
       "720"
      ]
     },
     "execution_count": 59,
     "metadata": {},
     "output_type": "execute_result"
    }
   ],
   "source": [
    "factorial_rec(6)"
   ]
  },
  {
   "cell_type": "code",
   "execution_count": 81,
   "id": "50aa5e19-b8d9-423b-8ccc-2eb0d840ec1d",
   "metadata": {},
   "outputs": [],
   "source": [
    "## create a function if a given number is palidarome\n",
    "\n",
    "## palidarome is a string which is same if you reverse it eg. KADAK\n",
    "\n",
    "## Method Indexing\n",
    "\n",
    "def pald(string):\n",
    "    if string == string[::-1]:\n",
    "        return True\n",
    "    else:\n",
    "        return False"
   ]
  },
  {
   "cell_type": "code",
   "execution_count": 83,
   "id": "0a1b8f11-1479-40ee-b3a8-1a531dbb6d34",
   "metadata": {},
   "outputs": [
    {
     "data": {
      "text/plain": [
       "False"
      ]
     },
     "execution_count": 83,
     "metadata": {},
     "output_type": "execute_result"
    }
   ],
   "source": [
    "pald(\"amit\")"
   ]
  },
  {
   "cell_type": "code",
   "execution_count": 85,
   "id": "58f8124d-4af1-4dda-b200-ea72acd865c4",
   "metadata": {},
   "outputs": [
    {
     "data": {
      "text/plain": [
       "True"
      ]
     },
     "execution_count": 85,
     "metadata": {},
     "output_type": "execute_result"
    }
   ],
   "source": [
    "pald(\"kadak\")"
   ]
  },
  {
   "cell_type": "code",
   "execution_count": 119,
   "id": "8c102339-4ebf-4653-8be7-d8f8f19a0618",
   "metadata": {},
   "outputs": [],
   "source": [
    "## Method recursion\n",
    "\n",
    "def pald_rec(string):\n",
    "    if len(string) < 2:\n",
    "        return True\n",
    "    if string[0] != string[-1]:\n",
    "        return False\n",
    "    return pald_rec(string[1:-1])"
   ]
  },
  {
   "cell_type": "code",
   "execution_count": 121,
   "id": "d372ce88-bbba-4364-aeb8-3eb4bb599b07",
   "metadata": {},
   "outputs": [
    {
     "data": {
      "text/plain": [
       "False"
      ]
     },
     "execution_count": 121,
     "metadata": {},
     "output_type": "execute_result"
    }
   ],
   "source": [
    "pald_rec(\"calc\")\n"
   ]
  },
  {
   "cell_type": "code",
   "execution_count": 137,
   "id": "225e4431-3871-4bf0-9086-3c718ff723d6",
   "metadata": {},
   "outputs": [
    {
     "name": "stdout",
     "output_type": "stream",
     "text": [
      "agb\n"
     ]
    }
   ],
   "source": [
    "amit=\"gagbn\"\n",
    "print(amit[1:-1])"
   ]
  },
  {
   "cell_type": "code",
   "execution_count": 125,
   "id": "fb5e1fe6-9c57-42a4-94f9-5a1c547fcf9b",
   "metadata": {},
   "outputs": [],
   "source": [
    "def is_palindrome(s):\n",
    "    if len(s) < 1:\n",
    "        return True\n",
    "    else:\n",
    "        if s[0] == s[-1]:\n",
    "            return is_palindrome(s[1:-1])\n",
    "        else:\n",
    "            return False"
   ]
  },
  {
   "cell_type": "code",
   "execution_count": 143,
   "id": "306cfd6e-2f93-48c4-b0f4-5617fd4e5ec8",
   "metadata": {},
   "outputs": [
    {
     "data": {
      "text/plain": [
       "True"
      ]
     },
     "execution_count": 143,
     "metadata": {},
     "output_type": "execute_result"
    }
   ],
   "source": [
    "is_palindrome(\"calac\")"
   ]
  },
  {
   "cell_type": "code",
   "execution_count": null,
   "id": "4a06e539-6c31-4e0c-a759-9c84173b553b",
   "metadata": {},
   "outputs": [],
   "source": []
  }
 ],
 "metadata": {
  "kernelspec": {
   "display_name": "Python 3 (ipykernel)",
   "language": "python",
   "name": "python3"
  },
  "language_info": {
   "codemirror_mode": {
    "name": "ipython",
    "version": 3
   },
   "file_extension": ".py",
   "mimetype": "text/x-python",
   "name": "python",
   "nbconvert_exporter": "python",
   "pygments_lexer": "ipython3",
   "version": "3.12.4"
  }
 },
 "nbformat": 4,
 "nbformat_minor": 5
}
