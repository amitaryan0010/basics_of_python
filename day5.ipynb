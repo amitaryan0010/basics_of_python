{
 "cells": [
  {
   "cell_type": "markdown",
   "id": "d1c10d6b-e371-4ebe-ab82-7c309918c5ab",
   "metadata": {},
   "source": [
    "# Calculator Project"
   ]
  },
  {
   "cell_type": "raw",
   "id": "c76fe5ff-681b-4f40-b44e-1120a3026d93",
   "metadata": {},
   "source": [
    "# List of Operations\n",
    "1) Addition\n",
    "2) Subtraction\n",
    "3) Multiplication\n",
    "4) Interger division\n",
    "5) Float division\n",
    "6) Mod (modulus)\n",
    "7) Percentage\n",
    "8) Factorial"
   ]
  },
  {
   "cell_type": "code",
   "execution_count": 144,
   "id": "6032b531-6703-46b4-925e-d2f0d8ca1852",
   "metadata": {},
   "outputs": [],
   "source": [
    "def add(num1, num2):\n",
    "    return num1 + num2\n",
    "    \n",
    "def sub(num1,num2):\n",
    "    return abs(num1 - num2)\n",
    "\n",
    "def mul(num1,num2):\n",
    "    return num1 * num2\n",
    "\n",
    "def int_div(num1,num2):\n",
    "    return num1 // num2\n",
    "\n",
    "def flo_div(num1,num2):\n",
    "    return num1 / num2\n",
    "\n",
    "def mod(num1,num2):\n",
    "    return num1 % num2\n",
    "\n",
    "def pert(num1,num2):\n",
    "    return (num1/num2)*100\n",
    "\n",
    "def power(num1,num2):\n",
    "    return (num1 ** num2)\n",
    "\n",
    "def fact(num1):\n",
    "    if num1 == 0:\n",
    "        return 1\n",
    "    return num1 * fact(num1-1)\n",
    "\n",
    "def calc():\n",
    "    user_input = int(input(\"Enter your operations \\n\" \\\n",
    "                           \"1: Addition \\n\" \\\n",
    "                           \"2: Subtraction \\n\" \\\n",
    "                           \"3: Multiplication \\n\" \\\n",
    "                           \"4: Integer Division \\n\" \\\n",
    "                           \"5: Float Division \\n\" \\\n",
    "                           \"6: Modulas \\n\" \\\n",
    "                           \"7: Percentage \\n\" \\\n",
    "                           \"8: Power \\n\" \\\n",
    "                           \"9: Factorial \\n\" \\\n",
    "                           \"Enter your Choice: \"))\n",
    "    if user_input == 1:\n",
    "        num1,num2 = input(\"Enter two digit two numbers:\").split()\n",
    "        num1,num2 = int(num1),int(num2)\n",
    "        print(\"Solution is\", add(num1,num2))\n",
    "    elif user_input == 2:\n",
    "        num1,num2 = input(\"Enter two digit two numbers:\").split()\n",
    "        num1,num2 = int(num1),int(num2)\n",
    "        print(\"Solution is\", sub(num1,num2))\n",
    "    elif user_input == 3:\n",
    "        num1,num2 = input(\"Enter two digit two numbers:\").split()\n",
    "        num1,num2 = int(num1),int(num2)\n",
    "        print(\"Solution is\", mul(num1,num2))\n",
    "    elif user_input == 4:\n",
    "        num1,num2 = input(\"Enter divident and divisor:\").split()\n",
    "        num1,num2 = int(num1),int(num2)\n",
    "        print(\"Solution is\", int_div(num1,num2))\n",
    "    elif user_input == 5:\n",
    "        num1,num2 = input(\"Enter divident and divisor:\").split()\n",
    "        num1,num2 = int(num1),int(num2)\n",
    "        print(\"Solution is\", flo_div(num1,num2))\n",
    "    elif user_input == 6:\n",
    "        num1,num2 = input(\"Enter two digit two numbers:\").split()\n",
    "        num1,num2 = int(num1),int(num2)\n",
    "        print(\"Solution is\", mod(num1,num2))\n",
    "    elif user_input == 7:\n",
    "        num1,num2 = input(\"Enter two digit two numbers:\").split()\n",
    "        num1,num2 = int(num1),int(num2)\n",
    "        print(\"Solution is\", pert(num1,num2))\n",
    "    elif user_input == 8:\n",
    "        num1,num2 = input(\"Enter two digit two numbers:\").split()\n",
    "        num1,num2 = int(num1),int(num2)\n",
    "        print(\"Solution is\", power(num1,num2))\n",
    "    elif user_input == 9:\n",
    "        num1= int(input(\"Enter one number:\"))\n",
    "        print(\"Solution is\", fact(num1))\n",
    "    else:\n",
    "        print(\"Wrong choice\")\n",
    "        calc()\n",
    "                           "
   ]
  },
  {
   "cell_type": "code",
   "execution_count": 146,
   "id": "8b4aac92-9889-452d-b9e5-ab406633b3f8",
   "metadata": {},
   "outputs": [
    {
     "name": "stdin",
     "output_type": "stream",
     "text": [
      "Enter your operations \n",
      "1: Addition \n",
      "2: Subtraction \n",
      "3: Multiplication \n",
      "4: Integer Division \n",
      "5: Float Division \n",
      "6: Modulas \n",
      "7: Percentage \n",
      "8: Power \n",
      "9: Factorial \n",
      "Enter your Choice:  1\n",
      "Enter two digit two numbers: 2 3\n"
     ]
    },
    {
     "name": "stdout",
     "output_type": "stream",
     "text": [
      "Solution is 5\n"
     ]
    }
   ],
   "source": [
    "calc()"
   ]
  },
  {
   "cell_type": "markdown",
   "id": "a2fc2c54-681b-4bcf-bf86-91fa7ffcc702",
   "metadata": {},
   "source": [
    "# Library in Python\n",
    "\n",
    "Contains functions and work together"
   ]
  },
  {
   "cell_type": "code",
   "execution_count": 148,
   "id": "dcb3543d-c52d-48d5-a5fe-aca3ae85141e",
   "metadata": {},
   "outputs": [],
   "source": [
    "# math librarry\n",
    "import math\n",
    "\n",
    "# or you can import his as variable - import math as m\n",
    "# m.sqrt(10), you can call like this"
   ]
  },
  {
   "cell_type": "code",
   "execution_count": 150,
   "id": "50116c26-da46-47f1-a393-76dd75ebe383",
   "metadata": {},
   "outputs": [
    {
     "data": {
      "text/plain": [
       "3.1622776601683795"
      ]
     },
     "execution_count": 150,
     "metadata": {},
     "output_type": "execute_result"
    }
   ],
   "source": [
    "math.sqrt(10)"
   ]
  },
  {
   "cell_type": "code",
   "execution_count": 152,
   "id": "9409dab3-4ad3-4434-b7f8-fa0ac8c9fb54",
   "metadata": {},
   "outputs": [
    {
     "data": {
      "text/plain": [
       "100.0"
      ]
     },
     "execution_count": 152,
     "metadata": {},
     "output_type": "execute_result"
    }
   ],
   "source": [
    "math.pow(10,2)"
   ]
  },
  {
   "cell_type": "code",
   "execution_count": 166,
   "id": "a3a5d464-7fd9-403b-a596-f2008d09a5f7",
   "metadata": {},
   "outputs": [],
   "source": [
    "def add1(*args):  # use this method if you don't want to restrict the numbers entered by user\n",
    " return sum(args)"
   ]
  },
  {
   "cell_type": "code",
   "execution_count": 168,
   "id": "6ae718c6-d7db-4388-80d9-1327231b06d6",
   "metadata": {},
   "outputs": [
    {
     "data": {
      "text/plain": [
       "55"
      ]
     },
     "execution_count": 168,
     "metadata": {},
     "output_type": "execute_result"
    }
   ],
   "source": [
    "add1(10, 2, 3, 4, 5, 6, 7, 8, 9, 1)"
   ]
  },
  {
   "cell_type": "code",
   "execution_count": null,
   "id": "3499a6ff-0fa8-4fa2-81b7-301c84fda3be",
   "metadata": {},
   "outputs": [],
   "source": []
  }
 ],
 "metadata": {
  "kernelspec": {
   "display_name": "Python 3 (ipykernel)",
   "language": "python",
   "name": "python3"
  },
  "language_info": {
   "codemirror_mode": {
    "name": "ipython",
    "version": 3
   },
   "file_extension": ".py",
   "mimetype": "text/x-python",
   "name": "python",
   "nbconvert_exporter": "python",
   "pygments_lexer": "ipython3",
   "version": "3.12.4"
  }
 },
 "nbformat": 4,
 "nbformat_minor": 5
}
