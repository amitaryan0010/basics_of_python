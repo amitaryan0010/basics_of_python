{
 "cells": [
  {
   "cell_type": "markdown",
   "id": "7cfeb12e-ab5e-4558-b6c7-957105494214",
   "metadata": {},
   "source": [
    "# Data Types\n",
    "1) int\n",
    "2) Float\n",
    "3) Complex\n",
    "4) String\n",
    "5) List (mutable)\n",
    "6) Tupple (immutable)\n",
    "7) Set (mutable but can't keep duplicate values)\n",
    "8) Dictionary (key-value pair)"
   ]
  },
  {
   "cell_type": "code",
   "execution_count": 49,
   "id": "6150ebad-a87d-4ee2-a591-d17a853e774b",
   "metadata": {},
   "outputs": [
    {
     "data": {
      "text/plain": [
       "int"
      ]
     },
     "execution_count": 49,
     "metadata": {},
     "output_type": "execute_result"
    }
   ],
   "source": [
    "# int data types\n",
    "\n",
    "my_int = 10\n",
    "type(my_int)\n",
    "\n",
    "# It took 4 bytes so Python knows its integer"
   ]
  },
  {
   "cell_type": "code",
   "execution_count": 103,
   "id": "984fc792-2390-4030-a39f-ded5ff94557a",
   "metadata": {},
   "outputs": [
    {
     "data": {
      "text/plain": [
       "float"
      ]
     },
     "execution_count": 103,
     "metadata": {},
     "output_type": "execute_result"
    }
   ],
   "source": [
    "#float value\n",
    "my_float = 10.5\n",
    "type(my_float)\n",
    "\n",
    "# It took 8 bytes so Python knows its float"
   ]
  },
  {
   "cell_type": "markdown",
   "id": "54aa7527-bc46-40ef-bef4-31d5379eca7b",
   "metadata": {},
   "source": [
    "# OPEATIONS\n",
    "\n",
    "1) Arithmetic\n",
    "2) Assignment\n",
    "3) Boolean\n",
    "4) Comparison\n",
    "5) Logical\n"
   ]
  },
  {
   "cell_type": "code",
   "execution_count": 25,
   "id": "165c86ad-59f4-462b-82ea-91ff07afb2a1",
   "metadata": {},
   "outputs": [
    {
     "data": {
      "text/plain": [
       "20"
      ]
     },
     "execution_count": 25,
     "metadata": {},
     "output_type": "execute_result"
    }
   ],
   "source": [
    "my_int + 10  #add"
   ]
  },
  {
   "cell_type": "code",
   "execution_count": 27,
   "id": "2e281f64-88ba-487d-b957-79851aa7e1e8",
   "metadata": {},
   "outputs": [
    {
     "data": {
      "text/plain": [
       "5"
      ]
     },
     "execution_count": 27,
     "metadata": {},
     "output_type": "execute_result"
    }
   ],
   "source": [
    "my_int - 5 ## subtract"
   ]
  },
  {
   "cell_type": "code",
   "execution_count": 29,
   "id": "1da81221-bc70-472a-a07d-66d369280c80",
   "metadata": {},
   "outputs": [
    {
     "data": {
      "text/plain": [
       "50"
      ]
     },
     "execution_count": 29,
     "metadata": {},
     "output_type": "execute_result"
    }
   ],
   "source": [
    "my_int * 5 ##multiply"
   ]
  },
  {
   "cell_type": "code",
   "execution_count": 31,
   "id": "a9b8a835-31f1-4dd5-ac8b-808a5a75781e",
   "metadata": {},
   "outputs": [
    {
     "data": {
      "text/plain": [
       "2"
      ]
     },
     "execution_count": 31,
     "metadata": {},
     "output_type": "execute_result"
    }
   ],
   "source": [
    "my_int//5 ## int division"
   ]
  },
  {
   "cell_type": "code",
   "execution_count": 105,
   "id": "6cc785f9-ae18-4e5b-ab73-0830eced13cb",
   "metadata": {},
   "outputs": [
    {
     "data": {
      "text/plain": [
       "2.5"
      ]
     },
     "execution_count": 105,
     "metadata": {},
     "output_type": "execute_result"
    }
   ],
   "source": [
    "my_int/4 ## float division"
   ]
  },
  {
   "cell_type": "code",
   "execution_count": 35,
   "id": "4c57e826-e79c-4e33-a917-f2f942d8dad0",
   "metadata": {},
   "outputs": [
    {
     "data": {
      "text/plain": [
       "100"
      ]
     },
     "execution_count": 35,
     "metadata": {},
     "output_type": "execute_result"
    }
   ],
   "source": [
    "my_int**2 ## power"
   ]
  },
  {
   "cell_type": "markdown",
   "id": "a9658113-d46a-4ef8-a786-c5ee7bd38376",
   "metadata": {},
   "source": [
    "# Assignment Operator"
   ]
  },
  {
   "cell_type": "code",
   "execution_count": 110,
   "id": "c2dd7bce-f7c9-4dcf-9b64-46f66e62a9e9",
   "metadata": {},
   "outputs": [
    {
     "data": {
      "text/plain": [
       "10"
      ]
     },
     "execution_count": 110,
     "metadata": {},
     "output_type": "execute_result"
    }
   ],
   "source": [
    "num = 5\n",
    "num = num + 5\n",
    "num"
   ]
  },
  {
   "cell_type": "code",
   "execution_count": 112,
   "id": "d6787d8c-7f91-4d45-a7c9-c2806f35c8e3",
   "metadata": {},
   "outputs": [
    {
     "data": {
      "text/plain": [
       "27"
      ]
     },
     "execution_count": 112,
     "metadata": {},
     "output_type": "execute_result"
    }
   ],
   "source": [
    "num2=8\n",
    "num2+=19\n",
    "num2"
   ]
  },
  {
   "cell_type": "markdown",
   "id": "1d866b7e-79c3-42f7-8121-d4233b7bcb15",
   "metadata": {},
   "source": []
  },
  {
   "cell_type": "markdown",
   "id": "b942623d-fe6a-4c2e-b813-53637b9d9b08",
   "metadata": {},
   "source": [
    "# Boolean Operator"
   ]
  },
  {
   "cell_type": "code",
   "execution_count": 121,
   "id": "6a974ec4-83cc-42e4-b3b3-f427a35d929c",
   "metadata": {},
   "outputs": [
    {
     "data": {
      "text/plain": [
       "True"
      ]
     },
     "execution_count": 121,
     "metadata": {},
     "output_type": "execute_result"
    }
   ],
   "source": [
    "bool(num2) # when a variable carry non-zero value then it will be always TRUE"
   ]
  },
  {
   "cell_type": "code",
   "execution_count": 123,
   "id": "41e0b1d3-0890-4903-a692-321b0085cdb4",
   "metadata": {},
   "outputs": [
    {
     "data": {
      "text/plain": [
       "False"
      ]
     },
     "execution_count": 123,
     "metadata": {},
     "output_type": "execute_result"
    }
   ],
   "source": [
    "num3=0\n",
    "bool(num3) #when a variable keeps zero value then it will be always FALSE, bz Python thinks it is a null value so no memory will be allocated so \n",
    "#it is false."
   ]
  },
  {
   "cell_type": "markdown",
   "id": "64932c10-8e36-4a0d-8270-be8920793530",
   "metadata": {},
   "source": [
    "# Comparison\n",
    "\n",
    "1) equal to ==\n",
    "2) not equal to !=\n",
    "3) greater than >\n",
    "4) greater than equal to >=\n",
    "5) less than <\n",
    "6) less than equal to <="
   ]
  },
  {
   "cell_type": "code",
   "execution_count": 45,
   "id": "2b7c52d8-72aa-41b4-8ef7-31aafbe498f0",
   "metadata": {},
   "outputs": [
    {
     "name": "stdout",
     "output_type": "stream",
     "text": [
      "True\n"
     ]
    }
   ],
   "source": [
    "val_1 = 10\n",
    "val_2 = 10\n",
    "print(val_1 == val_2)"
   ]
  },
  {
   "cell_type": "markdown",
   "id": "ddb03172-32c4-4658-add0-7c65afe58801",
   "metadata": {},
   "source": [
    "# Logical\n",
    "\n",
    "1) and : all condition met then true else false\n",
    "2) or : either of condition is met then true else false\n",
    "3) not: it tells false to True and true to False"
   ]
  },
  {
   "cell_type": "code",
   "execution_count": 51,
   "id": "1f927e23-d999-421f-aa62-0ee63ac011c3",
   "metadata": {},
   "outputs": [
    {
     "name": "stdout",
     "output_type": "stream",
     "text": [
      "True\n"
     ]
    }
   ],
   "source": [
    "bool1 = True\n",
    "bool2 = True\n",
    "print(bool1 and bool2)"
   ]
  },
  {
   "cell_type": "code",
   "execution_count": 129,
   "id": "a844e33c-9d85-4cb7-94b7-253cdd50bcfa",
   "metadata": {},
   "outputs": [
    {
     "name": "stdout",
     "output_type": "stream",
     "text": [
      "True\n"
     ]
    }
   ],
   "source": [
    "bool = True\n",
    "bool2 = False\n",
    "print (bool1 or bool2)"
   ]
  },
  {
   "cell_type": "code",
   "execution_count": 135,
   "id": "b549423c-4f54-47b6-ab3a-efb0ac39a4b5",
   "metadata": {},
   "outputs": [
    {
     "name": "stdout",
     "output_type": "stream",
     "text": [
      "False\n"
     ]
    }
   ],
   "source": [
    "bool3 = True\n",
    "bool4 = False\n",
    "print(not bool3)"
   ]
  },
  {
   "cell_type": "markdown",
   "id": "9665e0db-4bc7-4daa-abc9-4a4f099344c1",
   "metadata": {},
   "source": [
    "# String\n",
    "1. We enclose it in single or double quotes\n",
    "2. It takes the bytes according to the number of chracters"
   ]
  },
  {
   "cell_type": "code",
   "execution_count": 143,
   "id": "70fb3513-ee8e-44b7-95b7-51efc7f4563e",
   "metadata": {},
   "outputs": [
    {
     "data": {
      "text/plain": [
       "10"
      ]
     },
     "execution_count": 143,
     "metadata": {},
     "output_type": "execute_result"
    }
   ],
   "source": [
    "name = \"Amit Kumar\"\n",
    "len(name) # to print the length of string including white space"
   ]
  },
  {
   "cell_type": "code",
   "execution_count": 145,
   "id": "8c45d71d-cfc7-4260-abcb-653dd3d704f3",
   "metadata": {},
   "outputs": [
    {
     "name": "stdout",
     "output_type": "stream",
     "text": [
      "Hi Amit Kumar\n"
     ]
    }
   ],
   "source": [
    "print(\"Hi \" + name) # concatination two string"
   ]
  },
  {
   "cell_type": "markdown",
   "id": "37fc86bd-7cc0-4baf-94e4-1e6baefb413b",
   "metadata": {},
   "source": [
    "# Slicing\n",
    "1. indexing\n",
    "    a) Start from 0\n",
    "    b) Last index is always one less than total length\n",
    "2. Slicing\n",
    "    a) citting down the string accordingto our need"
   ]
  },
  {
   "cell_type": "code",
   "execution_count": 161,
   "id": "1267ad1c-e584-49c5-9ccb-164ef3b85136",
   "metadata": {},
   "outputs": [
    {
     "data": {
      "text/plain": [
       "'r'"
      ]
     },
     "execution_count": 161,
     "metadata": {},
     "output_type": "execute_result"
    }
   ],
   "source": [
    "name = \"Amit Kumar\"\n",
    "name[len(name)-1]"
   ]
  },
  {
   "cell_type": "code",
   "execution_count": 207,
   "id": "835ba1c4-6f89-4e76-bd25-7c56f9ddce1c",
   "metadata": {},
   "outputs": [
    {
     "data": {
      "text/plain": [
       "'it Kumar'"
      ]
     },
     "execution_count": 207,
     "metadata": {},
     "output_type": "execute_result"
    }
   ],
   "source": [
    "name = \"Amit Kumar\"\n",
    "name[2:]  # here it will skip first 2 from left side and rest will be printed"
   ]
  },
  {
   "cell_type": "code",
   "execution_count": 151,
   "id": "7fc46758-b230-4e0c-a7d7-78f37f219cc8",
   "metadata": {},
   "outputs": [
    {
     "data": {
      "text/plain": [
       "'it K'"
      ]
     },
     "execution_count": 151,
     "metadata": {},
     "output_type": "execute_result"
    }
   ],
   "source": [
    "name = \"Amit Kumar\"\n",
    "name[2:6] # it will print 3rd letter till 6th letter"
   ]
  },
  {
   "cell_type": "code",
   "execution_count": 163,
   "id": "4a2917d2-afc6-444b-bafe-26ef30fb2f73",
   "metadata": {},
   "outputs": [
    {
     "data": {
      "text/plain": [
       "'ramuK timA'"
      ]
     },
     "execution_count": 163,
     "metadata": {},
     "output_type": "execute_result"
    }
   ],
   "source": [
    "name = \"Amit Kumar\"\n",
    "name[::-1] # to reverse the string"
   ]
  },
  {
   "cell_type": "code",
   "execution_count": 167,
   "id": "ec9223da-e60e-41d3-8e4f-36d9b3e66309",
   "metadata": {},
   "outputs": [
    {
     "data": {
      "text/plain": [
       "'Amit Kuma'"
      ]
     },
     "execution_count": 167,
     "metadata": {},
     "output_type": "execute_result"
    }
   ],
   "source": [
    "name[:-1] # it will cut the last char from right side"
   ]
  },
  {
   "cell_type": "markdown",
   "id": "3e5d3615-fcf6-472c-8037-a25e74464279",
   "metadata": {},
   "source": [
    "# SPLIT function"
   ]
  },
  {
   "cell_type": "code",
   "execution_count": 171,
   "id": "c7c741e2-2fbd-41a1-a2e4-9c2673b7f64e",
   "metadata": {},
   "outputs": [
    {
     "data": {
      "text/plain": [
       "'Hello'"
      ]
     },
     "execution_count": 171,
     "metadata": {},
     "output_type": "execute_result"
    }
   ],
   "source": [
    "string = \"Hello Python\"\n",
    "word1,word2 = string.split(\" \") # to split the string e.g. with white space or any other char\n",
    "word1"
   ]
  },
  {
   "cell_type": "code",
   "execution_count": 179,
   "id": "f8ae3ecb-9043-46b2-b5c2-eae4d8f1aa73",
   "metadata": {},
   "outputs": [
    {
     "data": {
      "text/plain": [
       "'Hello '"
      ]
     },
     "execution_count": 179,
     "metadata": {},
     "output_type": "execute_result"
    }
   ],
   "source": [
    "string = \"Hello Python\"\n",
    "word1,word2 = string.split(\"P\") #to print only before P\n",
    "word1"
   ]
  },
  {
   "cell_type": "code",
   "execution_count": 181,
   "id": "6451c1b4-2dc2-4304-a830-da21a5da6617",
   "metadata": {},
   "outputs": [
    {
     "data": {
      "text/plain": [
       "'ython'"
      ]
     },
     "execution_count": 181,
     "metadata": {},
     "output_type": "execute_result"
    }
   ],
   "source": [
    "string = \"Hello Python\"\n",
    "word1,word2 = string.split(\"P\") # to print after P\n",
    "word2"
   ]
  },
  {
   "cell_type": "markdown",
   "id": "9216b18b-6581-4b0c-8bed-875efd358ce6",
   "metadata": {},
   "source": [
    "# STRIP Function (or TRIM)"
   ]
  },
  {
   "cell_type": "code",
   "execution_count": 203,
   "id": "157cb0c5-e857-4649-b90c-323ffddf7b41",
   "metadata": {},
   "outputs": [
    {
     "name": "stdout",
     "output_type": "stream",
     "text": [
      "  Hello      Amit \n"
     ]
    }
   ],
   "source": [
    "string5 = \"  Hello      Amit \"\n",
    "print(string5) # It will print with space but if you want strip space then use strip function"
   ]
  },
  {
   "cell_type": "code",
   "execution_count": 205,
   "id": "e1ea94e0-5108-49e1-9ccf-1acea51d6131",
   "metadata": {},
   "outputs": [
    {
     "name": "stdout",
     "output_type": "stream",
     "text": [
      "Hello Amit\n"
     ]
    }
   ],
   "source": [
    "string5 = \"  Hello Amit \"\n",
    "string5 = string5.strip()\n",
    "print(string5)"
   ]
  },
  {
   "cell_type": "markdown",
   "id": "ba13be3a-f011-4a15-912f-da8afcf71e07",
   "metadata": {},
   "source": [
    "# LIST\n",
    "1) collective datatype\n",
    "2) to initiative list we use []\n",
    "3) we can add any data type in list\n",
    "4) we have functions like sort, apend, sum ....."
   ]
  },
  {
   "cell_type": "code",
   "execution_count": 324,
   "id": "a49c1d7f-67d4-4253-9580-0ceb56cf2b8c",
   "metadata": {},
   "outputs": [
    {
     "data": {
      "text/plain": [
       "list"
      ]
     },
     "execution_count": 324,
     "metadata": {},
     "output_type": "execute_result"
    }
   ],
   "source": [
    "my_list= []\n",
    "type(my_list)"
   ]
  },
  {
   "cell_type": "code",
   "execution_count": 216,
   "id": "623f78b6-a948-4109-97fc-9d081387df14",
   "metadata": {},
   "outputs": [
    {
     "name": "stdout",
     "output_type": "stream",
     "text": [
      "[1, 2, 5, 3, 7, 5, 0]\n"
     ]
    }
   ],
   "source": [
    "my_list= [1,2,5,3,7,5,0]\n",
    "print(my_list)"
   ]
  },
  {
   "cell_type": "code",
   "execution_count": 220,
   "id": "714fb3ef-30fe-4689-b70a-6c96520a90ed",
   "metadata": {},
   "outputs": [
    {
     "data": {
      "text/plain": [
       "[5, 3, 7, 5, 0]"
      ]
     },
     "execution_count": 220,
     "metadata": {},
     "output_type": "execute_result"
    }
   ],
   "source": [
    "my_list= [1,2,5,3,7,5,0]\n",
    "my_list[2:] # indexing same as string"
   ]
  },
  {
   "cell_type": "code",
   "execution_count": 224,
   "id": "931a0c0f-7e0d-409c-80ec-38f6fc9e874e",
   "metadata": {},
   "outputs": [
    {
     "data": {
      "text/plain": [
       "[0, 5, 7, 3, 5, 2, 1]"
      ]
     },
     "execution_count": 224,
     "metadata": {},
     "output_type": "execute_result"
    }
   ],
   "source": [
    "my_list= [1,2,5,3,7,5,0]\n",
    "my_list[::-1] # reverse indexing "
   ]
  },
  {
   "cell_type": "code",
   "execution_count": 226,
   "id": "c2e06438-3eba-4c0e-bfa2-b4301c1f49c4",
   "metadata": {},
   "outputs": [
    {
     "data": {
      "text/plain": [
       "7"
      ]
     },
     "execution_count": 226,
     "metadata": {},
     "output_type": "execute_result"
    }
   ],
   "source": [
    "my_list= [1,2,5,3,7,5,0]\n",
    "len(my_list) # to chekc the lenght"
   ]
  },
  {
   "cell_type": "code",
   "execution_count": 244,
   "id": "677eef44-5300-4f42-9735-0676ee5d754f",
   "metadata": {},
   "outputs": [
    {
     "data": {
      "text/plain": [
       "[1, 2, 5, 3, 7, 5, 0, 11]"
      ]
     },
     "execution_count": 244,
     "metadata": {},
     "output_type": "execute_result"
    }
   ],
   "source": [
    "my_list= [1,2,5,3,7,5,0]\n",
    "my_list.append(11) # to add more data, use append function\n",
    "my_list"
   ]
  },
  {
   "cell_type": "code",
   "execution_count": 246,
   "id": "aea141a8-aa3f-42c2-ad65-eded68809a1d",
   "metadata": {},
   "outputs": [
    {
     "data": {
      "text/plain": [
       "[1, 2, 5, 3, 7, 5, 0, 'amit']"
      ]
     },
     "execution_count": 246,
     "metadata": {},
     "output_type": "execute_result"
    }
   ],
   "source": [
    "my_list= [1,2,5,3,7,5,0]\n",
    "my_list.append(\"amit\") # to add more data, use append function\n",
    "my_list"
   ]
  },
  {
   "cell_type": "code",
   "execution_count": 254,
   "id": "ffdf2240-bd2b-4c99-b5ee-40fbf8597e7b",
   "metadata": {},
   "outputs": [
    {
     "data": {
      "text/plain": [
       "[1, 2, 5, 3, 7, 5, 0, ['amit', 'hello']]"
      ]
     },
     "execution_count": 254,
     "metadata": {},
     "output_type": "execute_result"
    }
   ],
   "source": [
    "my_list= [1,2,5,3,7,5,0]\n",
    "my_list.append([\"amit\", \"hello\"]) # to add list into list, use append function\n",
    "my_list"
   ]
  },
  {
   "cell_type": "code",
   "execution_count": 256,
   "id": "ce388595-6d4c-43ae-b6d5-85a084300b28",
   "metadata": {},
   "outputs": [
    {
     "data": {
      "text/plain": [
       "23"
      ]
     },
     "execution_count": 256,
     "metadata": {},
     "output_type": "execute_result"
    }
   ],
   "source": [
    "my_list= [1,2,5,3,7,5,0]\n",
    "sum(my_list) # to get the sum"
   ]
  },
  {
   "cell_type": "code",
   "execution_count": 258,
   "id": "a9b9643f-14b2-4840-9eb9-bda7c06c8fcb",
   "metadata": {},
   "outputs": [
    {
     "data": {
      "text/plain": [
       "[0, 1, 2, 3, 5, 5, 7]"
      ]
     },
     "execution_count": 258,
     "metadata": {},
     "output_type": "execute_result"
    }
   ],
   "source": [
    "my_list= [1,2,5,3,7,5,0]\n",
    "sorted(my_list) # to get the sort"
   ]
  },
  {
   "cell_type": "code",
   "execution_count": 287,
   "id": "c49bf835-b8dd-4a49-81a8-ffb118dfcc78",
   "metadata": {},
   "outputs": [
    {
     "data": {
      "text/plain": [
       "[0, 1, 'amit', 3, 5, 5, 7]"
      ]
     },
     "execution_count": 287,
     "metadata": {},
     "output_type": "execute_result"
    }
   ],
   "source": [
    "my_list= [0, 1, 2, 3, 5, 5, 7]\n",
    "my_list[2]= \"amit\" # if you want to add at some specific space then put the value at that index value\n",
    "my_list"
   ]
  },
  {
   "cell_type": "markdown",
   "id": "31fc6192-579e-4d4f-bc66-a55f06cfe285",
   "metadata": {},
   "source": [
    "# TUPPLE\n",
    "1) collective datatypes\n",
    "2) immutable\n",
    "3) it is ecnlcosed in ()"
   ]
  },
  {
   "cell_type": "code",
   "execution_count": 275,
   "id": "36c5f409-a198-4027-a059-ca8a061a4356",
   "metadata": {},
   "outputs": [
    {
     "data": {
      "text/plain": [
       "(1, 2, 34)"
      ]
     },
     "execution_count": 275,
     "metadata": {},
     "output_type": "execute_result"
    }
   ],
   "source": [
    "my_tupple=(1,2,34)\n",
    "my_tupple"
   ]
  },
  {
   "cell_type": "code",
   "execution_count": 281,
   "id": "83c0ac87-740d-41cb-bf35-05721a3837a0",
   "metadata": {},
   "outputs": [
    {
     "data": {
      "text/plain": [
       "(1, 2)"
      ]
     },
     "execution_count": 281,
     "metadata": {},
     "output_type": "execute_result"
    }
   ],
   "source": [
    "my_tupple=(1,2,34)\n",
    "my_tupple[:2] # to slice"
   ]
  },
  {
   "cell_type": "markdown",
   "id": "bb639bda-bedf-4a1b-b4f6-aba1798f4efd",
   "metadata": {},
   "source": [
    "# SET \n",
    "1) Collective datatype\n",
    "2) doesn't allow duplicate value\n",
    "3) Mutable\n",
    "4) define in {}"
   ]
  },
  {
   "cell_type": "code",
   "execution_count": 291,
   "id": "46fc4bf9-1bce-4511-be70-fffd9ad52838",
   "metadata": {},
   "outputs": [
    {
     "data": {
      "text/plain": [
       "{1, 2, 3, 4, 5}"
      ]
     },
     "execution_count": 291,
     "metadata": {},
     "output_type": "execute_result"
    }
   ],
   "source": [
    "set1 = {1,2,3,4,5,3,4}\n",
    "set1"
   ]
  },
  {
   "cell_type": "code",
   "execution_count": 305,
   "id": "eb84e529-259c-4d66-a692-a67e9fa9e4a3",
   "metadata": {},
   "outputs": [
    {
     "data": {
      "text/plain": [
       "[1, 2, 3, 4, 5]"
      ]
     },
     "execution_count": 305,
     "metadata": {},
     "output_type": "execute_result"
    }
   ],
   "source": [
    "set1 = {1,2,3,4,5,3,4}\n",
    "list(set1) # to convert into list"
   ]
  },
  {
   "cell_type": "code",
   "execution_count": 307,
   "id": "415eb178-395e-49dd-983e-a2c9e28dc15e",
   "metadata": {},
   "outputs": [
    {
     "data": {
      "text/plain": [
       "(1, 2, 3, 4, 5)"
      ]
     },
     "execution_count": 307,
     "metadata": {},
     "output_type": "execute_result"
    }
   ],
   "source": [
    "set1 = {1,2,3,4,5,3,4}\n",
    "tuple(set1) # to convert into tuple"
   ]
  },
  {
   "cell_type": "code",
   "execution_count": 309,
   "id": "7d8a8527-5c27-4f62-b0e1-382fa0e4b5d3",
   "metadata": {},
   "outputs": [
    {
     "data": {
      "text/plain": [
       "{0, 1, 2, 3, 4, 5, 6}"
      ]
     },
     "execution_count": 309,
     "metadata": {},
     "output_type": "execute_result"
    }
   ],
   "source": [
    "# to convert the list into set\n",
    "my_list5 = [0,1,2,3,4,5,5,6,4]\n",
    "set(my_list5)"
   ]
  },
  {
   "cell_type": "markdown",
   "id": "05714ad3-fce3-4278-8c96-7e78f03c4d88",
   "metadata": {},
   "source": [
    "# Dictionary\n",
    "1) collective datatype\n",
    "2) key-value pairs\n",
    "3) keys can't be repeated\n",
    "4) to define in {}"
   ]
  },
  {
   "cell_type": "code",
   "execution_count": 331,
   "id": "39e7a265-de81-485a-9908-18ad96ebf286",
   "metadata": {},
   "outputs": [
    {
     "data": {
      "text/plain": [
       "{1: 'mango', 2: 'Banana', 3: 'Apple'}"
      ]
     },
     "execution_count": 331,
     "metadata": {},
     "output_type": "execute_result"
    }
   ],
   "source": [
    "my_dict={\n",
    "    1: \"mango\",\n",
    "    2: \"Banana\",\n",
    "    3: \"Apple\"\n",
    "}\n",
    "my_dict # to print whole dictionary"
   ]
  },
  {
   "cell_type": "code",
   "execution_count": 335,
   "id": "5381d852-1527-4e77-90ba-de936250c9b6",
   "metadata": {},
   "outputs": [
    {
     "data": {
      "text/plain": [
       "dict_keys([1, 2, 3])"
      ]
     },
     "execution_count": 335,
     "metadata": {},
     "output_type": "execute_result"
    }
   ],
   "source": [
    "my_dict.keys() # to print only keys"
   ]
  },
  {
   "cell_type": "code",
   "execution_count": 337,
   "id": "99e09ed4-dc76-4f41-a578-2b8a38534629",
   "metadata": {},
   "outputs": [
    {
     "data": {
      "text/plain": [
       "dict_values(['mango', 'Banana', 'Apple'])"
      ]
     },
     "execution_count": 337,
     "metadata": {},
     "output_type": "execute_result"
    }
   ],
   "source": [
    "my_dict.values() # to print only values"
   ]
  },
  {
   "cell_type": "code",
   "execution_count": 341,
   "id": "90073158-f36c-4ee3-a345-118fb64430b5",
   "metadata": {},
   "outputs": [
    {
     "data": {
      "text/plain": [
       "'mango'"
      ]
     },
     "execution_count": 341,
     "metadata": {},
     "output_type": "execute_result"
    }
   ],
   "source": [
    "my_dict.get(1) # to get the valye for a particular key"
   ]
  },
  {
   "cell_type": "code",
   "execution_count": null,
   "id": "4cb03e52-ee49-421a-b3d0-fd774ac15d8f",
   "metadata": {},
   "outputs": [],
   "source": []
  }
 ],
 "metadata": {
  "kernelspec": {
   "display_name": "Python 3 (ipykernel)",
   "language": "python",
   "name": "python3"
  },
  "language_info": {
   "codemirror_mode": {
    "name": "ipython",
    "version": 3
   },
   "file_extension": ".py",
   "mimetype": "text/x-python",
   "name": "python",
   "nbconvert_exporter": "python",
   "pygments_lexer": "ipython3",
   "version": "3.12.4"
  }
 },
 "nbformat": 4,
 "nbformat_minor": 5
}
